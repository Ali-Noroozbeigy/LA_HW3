{
 "cells": [
  {
   "cell_type": "code",
   "execution_count": 1,
   "id": "df966712",
   "metadata": {},
   "outputs": [],
   "source": [
    "import numpy as np"
   ]
  },
  {
   "cell_type": "code",
   "execution_count": 5,
   "id": "2a93c99f",
   "metadata": {},
   "outputs": [
    {
     "data": {
      "text/plain": [
       "array([[1., 7., 8., 9.],\n",
       "       [2., 1., 7., 8.],\n",
       "       [3., 2., 1., 7.],\n",
       "       [4., 3., 2., 1.]])"
      ]
     },
     "execution_count": 5,
     "metadata": {},
     "output_type": "execute_result"
    }
   ],
   "source": [
    "# you can replace these vectors with whatever you want!\n",
    "v1 = np.array([1,2,3,4,5])\n",
    "v2 = np.array([6,7,8,9,10])\n",
    "\n",
    "n = len(v1)\n",
    "\n",
    "toeplitz = np.zeros((n-1,n-1))\n",
    "\n",
    "for j in range (n-1):\n",
    "    k=0\n",
    "    for i in range(j,n-1):\n",
    "        toeplitz[i,j] = v1[k]\n",
    "        k += 1\n",
    "\n",
    "for i in range (n-2):\n",
    "    for j in range(i+1, n-1):\n",
    "        toeplitz[i,j] = v2[j-i]\n",
    "\n",
    "        \n",
    "toeplitz"
   ]
  },
  {
   "cell_type": "code",
   "execution_count": 3,
   "id": "8cbf73e0",
   "metadata": {},
   "outputs": [
    {
     "data": {
      "text/plain": [
       "array([[  1.        ,   7.        ,   8.        ,   9.        ],\n",
       "       [  0.        , -13.        ,  -9.        , -10.        ],\n",
       "       [  0.        ,   0.        ,  -9.84615385,  -5.38461538],\n",
       "       [  0.        ,   0.        ,   0.        ,  -8.828125  ]])"
      ]
     },
     "execution_count": 3,
     "metadata": {},
     "output_type": "execute_result"
    }
   ],
   "source": [
    "row = 0\n",
    "column = 0\n",
    "\n",
    "while row < n-1:\n",
    "    \n",
    "    if not np.all(toeplitz[row:, column] == 0):\n",
    "        first_non_zero_location = np.nonzero(toeplitz[row:, column])[0][0] + row\n",
    "        \n",
    "        if first_non_zero_location != row:\n",
    "            toeplitz[[row, first_non_zero_location]] = toeplitz[[first_non_zero_location, row]]\n",
    "        \n",
    "        for i in range(row + 1, n-1):\n",
    "            \n",
    "            if toeplitz[i, column] != 0:\n",
    "                m = toeplitz[i, column] / toeplitz[row, column]\n",
    "                toeplitz[i] -= (m * toeplitz[row])\n",
    "        \n",
    "        row +=1\n",
    "        column +=1\n",
    "    \n",
    "    else:\n",
    "        column += 1\n",
    "        \n",
    "toeplitz"
   ]
  },
  {
   "cell_type": "code",
   "execution_count": 4,
   "id": "1538956a",
   "metadata": {},
   "outputs": [
    {
     "name": "stdout",
     "output_type": "stream",
     "text": [
      "Determinant is :   -1130.0\n"
     ]
    }
   ],
   "source": [
    "det = 1\n",
    "\n",
    "for i in range (n-1):\n",
    "    det *= toeplitz[i,i]\n",
    "    \n",
    "\n",
    "print(\"Determinant is :  \", det)"
   ]
  }
 ],
 "metadata": {
  "kernelspec": {
   "display_name": "Python 3 (ipykernel)",
   "language": "python",
   "name": "python3"
  },
  "language_info": {
   "codemirror_mode": {
    "name": "ipython",
    "version": 3
   },
   "file_extension": ".py",
   "mimetype": "text/x-python",
   "name": "python",
   "nbconvert_exporter": "python",
   "pygments_lexer": "ipython3",
   "version": "3.9.7"
  }
 },
 "nbformat": 4,
 "nbformat_minor": 5
}
