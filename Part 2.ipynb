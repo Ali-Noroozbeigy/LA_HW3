{
 "cells": [
  {
   "cell_type": "code",
   "execution_count": 1,
   "id": "43c046e2",
   "metadata": {},
   "outputs": [],
   "source": [
    "import matplotlib.pyplot as plt\n",
    "import matplotlib.image as mpimg\n",
    "import numpy as np "
   ]
  },
  {
   "cell_type": "code",
   "execution_count": 4,
   "id": "41665f82",
   "metadata": {},
   "outputs": [
    {
     "data": {
      "text/plain": [
       "<matplotlib.image.AxesImage at 0x22c8fa61940>"
      ]
     },
     "execution_count": 4,
     "metadata": {},
     "output_type": "execute_result"
    },
    {
     "data": {
      "image/png": "[encoded data removed]",
      "text/plain": [
       "<Figure size 432x288 with 1 Axes>"
      ]
     },
     "metadata": {
      "needs_background": "light"
     },
     "output_type": "display_data"
    }
   ],
   "source": [
    "directImg = mpimg.imread(\"./part2.jpg\")\n",
    "\n",
    "\n",
    "# making a copy of the direct image and color the parts which are not white to form shadow of direct image.\n",
    "# in the next step, it will be transformed to shear form to be combined with direct image! \n",
    "cp = np.copy(directImg)\n",
    "\n",
    "for i in range (len(directImg)):\n",
    "    for j in range (len(directImg[i])):\n",
    "        for k in range (len(directImg[i,j])):\n",
    "            if directImg[i,j,k] != 254:\n",
    "                cp[i,j,k] = 128\n",
    "\n",
    "\n",
    "\n",
    "# multipling to 3 is for the larger space that shear image needs\n",
    "shr = np.empty((3*len(directImg),3*len(directImg[0]) , 3))\n",
    "shr.fill(254) # fill it with white color\n",
    "\n",
    "\n",
    "\n",
    "# shear matrix is a matrix like what is pointed in the doc with this different that\n",
    "# lambda is 1. so the shear matrix will be:\n",
    "# 1   0\n",
    "# 1   1\n",
    "# in order to transform each coordinate with that matrix, the x coordinate will be left without any change(because of\n",
    "# the first line of the matrix) and y coordinate will be sum of x and y (because of the second line of the matrix)\n",
    "# after this loop, sheared shadow is ready to be combined with direct image in next step\n",
    "for k in range(3):\n",
    "    for i in range(len(cp)):\n",
    "        for j in range(len(cp[i])):\n",
    "            if cp[i,j,k] == 128:\n",
    "                shr[i,i+j,k] = cp[i,j,k]\n",
    "\n",
    "# combining sheared shadow with direct image!                \n",
    "for k in range(3):\n",
    "    for i in range(len(directImg)):\n",
    "        for j in range(len(directImg[i])):\n",
    "            if directImg[i,j,k] != 254:\n",
    "                shr[i,j+len(directImg),k] = directImg[i,j,k] \n",
    "\n",
    "                \n",
    "plt.imshow(shr.astype('uint8'))                "
   ]
  }
 ],
 "metadata": {
  "kernelspec": {
   "display_name": "Python 3 (ipykernel)",
   "language": "python",
   "name": "python3"
  },
  "language_info": {
   "codemirror_mode": {
    "name": "ipython",
    "version": 3
   },
   "file_extension": ".py",
   "mimetype": "text/x-python",
   "name": "python",
   "nbconvert_exporter": "python",
   "pygments_lexer": "ipython3",
   "version": "3.9.7"
  }
 },
 "nbformat": 4,
 "nbformat_minor": 5
}
